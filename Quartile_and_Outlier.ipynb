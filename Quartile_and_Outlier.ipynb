{
  "cells": [
    {
      "cell_type": "markdown",
      "metadata": {
        "id": "view-in-github",
        "colab_type": "text"
      },
      "source": [
        "<a href=\"https://colab.research.google.com/github/Dharil33/Detect-Outlier-using-IQR-Statistical-Technique/blob/main/Quartile_and_Outlier.ipynb\" target=\"_parent\"><img src=\"https://colab.research.google.com/assets/colab-badge.svg\" alt=\"Open In Colab\"/></a>"
      ]
    },
    {
      "cell_type": "code",
      "execution_count": null,
      "metadata": {
        "id": "CLTXbAYX7Haa"
      },
      "outputs": [],
      "source": [
        "import numpy as np"
      ]
    },
    {
      "cell_type": "code",
      "execution_count": null,
      "metadata": {
        "id": "VfdACL4U7Hab"
      },
      "outputs": [],
      "source": [
        "arr1 = np.array([1,2,3,4,5,6,7,8,9,10])"
      ]
    },
    {
      "cell_type": "code",
      "execution_count": null,
      "metadata": {
        "id": "I7E9USqb7Hac",
        "outputId": "689f2914-a42e-4bb2-ba45-9b3202731aba",
        "colab": {
          "base_uri": "https://localhost:8080/"
        }
      },
      "outputs": [
        {
          "output_type": "execute_result",
          "data": {
            "text/plain": [
              "array([ 1,  2,  3,  4,  5,  6,  7,  8,  9, 10])"
            ]
          },
          "metadata": {},
          "execution_count": 27
        }
      ],
      "source": [
        "arr1"
      ]
    },
    {
      "cell_type": "code",
      "execution_count": null,
      "metadata": {
        "id": "nrdp4Ekp7Hac",
        "outputId": "d7128cb6-0148-45c0-acdc-1da0a8a38692",
        "colab": {
          "base_uri": "https://localhost:8080/"
        }
      },
      "outputs": [
        {
          "output_type": "execute_result",
          "data": {
            "text/plain": [
              "5.5"
            ]
          },
          "metadata": {},
          "execution_count": 28
        }
      ],
      "source": [
        "arr1.mean()"
      ]
    },
    {
      "cell_type": "code",
      "execution_count": null,
      "metadata": {
        "id": "p2CbvX287Had",
        "outputId": "f885b2da-0660-4120-a68c-6f07405279a6",
        "colab": {
          "base_uri": "https://localhost:8080/"
        }
      },
      "outputs": [
        {
          "output_type": "execute_result",
          "data": {
            "text/plain": [
              "5.5"
            ]
          },
          "metadata": {},
          "execution_count": 29
        }
      ],
      "source": [
        "#apply percentile function for Q1 Q3\n",
        "np.percentile(arr1,50)"
      ]
    },
    {
      "cell_type": "code",
      "execution_count": null,
      "metadata": {
        "id": "YmcKdTJP7Had",
        "outputId": "06a164c8-8436-4d1e-e71d-bd6866f8a23d",
        "colab": {
          "base_uri": "https://localhost:8080/"
        }
      },
      "outputs": [
        {
          "output_type": "execute_result",
          "data": {
            "text/plain": [
              "3.25"
            ]
          },
          "metadata": {},
          "execution_count": 30
        }
      ],
      "source": [
        "np.percentile(arr1,25)"
      ]
    },
    {
      "cell_type": "code",
      "execution_count": null,
      "metadata": {
        "id": "tkpjlQMt7Had",
        "outputId": "402a2a09-f4e7-4e39-a32e-8947cd2b23fe",
        "colab": {
          "base_uri": "https://localhost:8080/"
        }
      },
      "outputs": [
        {
          "output_type": "execute_result",
          "data": {
            "text/plain": [
              "7.75"
            ]
          },
          "metadata": {},
          "execution_count": 31
        }
      ],
      "source": [
        "np.percentile(arr1,75)"
      ]
    },
    {
      "cell_type": "code",
      "execution_count": null,
      "metadata": {
        "id": "qjRDADUn7Had",
        "outputId": "f01afb4c-7e97-4d23-d5f9-cb416fdbdf14",
        "colab": {
          "base_uri": "https://localhost:8080/"
        }
      },
      "outputs": [
        {
          "output_type": "execute_result",
          "data": {
            "text/plain": [
              "10.0"
            ]
          },
          "metadata": {},
          "execution_count": 32
        }
      ],
      "source": [
        "np.percentile(arr1,100)"
      ]
    },
    {
      "cell_type": "code",
      "execution_count": null,
      "metadata": {
        "id": "k3QDb3-b7Hae"
      },
      "outputs": [],
      "source": [
        "#Function to calc lowerRange and UpperRange using 1.5IQR rule"
      ]
    },
    {
      "cell_type": "code",
      "source": [
        "#Reason why we use 1.5?\n",
        "\n",
        "# According to Gassuian or normal distribution if the data points outside the 3rd Standard Deviation of the mean then we can say that point is outlier\n",
        "# So,When we are taking a scale of 1.5 then obtained range is found closest to what Gassuain Distribution tells. "
      ],
      "metadata": {
        "id": "c76XFmrweya1"
      },
      "execution_count": null,
      "outputs": []
    },
    {
      "cell_type": "code",
      "execution_count": null,
      "metadata": {
        "id": "6V1rVnho7Hae"
      },
      "outputs": [],
      "source": [
        "def outlierDetection(data):\n",
        "  q1,q3 = np.percentile(data,[25,75])\n",
        "  IQR = np.subtract(q3,q1)\n",
        "  lower_fense = q1 - (1.5*IQR)\n",
        "  higher_fense = q3 + (1.5*IQR)\n",
        "  return lower_fense,higher_fense\n",
        "lowerbound,higherbound = outlierDetection(data1)"
      ]
    },
    {
      "cell_type": "code",
      "source": [
        "print(higherbound)"
      ],
      "metadata": {
        "colab": {
          "base_uri": "https://localhost:8080/"
        },
        "id": "xgeB044WXiQR",
        "outputId": "99b9707f-6042-40ff-98f0-9d85ce7d47f0"
      },
      "execution_count": null,
      "outputs": [
        {
          "output_type": "stream",
          "name": "stdout",
          "text": [
            "66700.75\n"
          ]
        }
      ]
    },
    {
      "cell_type": "code",
      "execution_count": null,
      "metadata": {
        "id": "b3R8B1ml7Hae"
      },
      "outputs": [],
      "source": [
        "data1 = np.array([[1000],[2000],[6000],[4999],[2399],[50000],[2000000]])"
      ]
    },
    {
      "cell_type": "code",
      "execution_count": null,
      "metadata": {
        "id": "9K_zEz9z7Hae",
        "outputId": "a1375e5f-3e86-41ba-9de3-0e5e17c89245",
        "colab": {
          "base_uri": "https://localhost:8080/"
        }
      },
      "outputs": [
        {
          "output_type": "execute_result",
          "data": {
            "text/plain": [
              "array([[   1000],\n",
              "       [   2000],\n",
              "       [   6000],\n",
              "       [   4999],\n",
              "       [   2399],\n",
              "       [  50000],\n",
              "       [2000000]])"
            ]
          },
          "metadata": {},
          "execution_count": 38
        }
      ],
      "source": [
        "data1"
      ]
    },
    {
      "cell_type": "code",
      "execution_count": null,
      "metadata": {
        "id": "FhZSy3Ao7Haf"
      },
      "outputs": [],
      "source": [
        "# call function"
      ]
    },
    {
      "cell_type": "code",
      "execution_count": null,
      "metadata": {
        "id": "Vw-ADp6i7Haf",
        "colab": {
          "base_uri": "https://localhost:8080/",
          "height": 363
        },
        "outputId": "94bdafee-01ef-4070-c48c-29b0b2ec7fe2"
      },
      "outputs": [
        {
          "output_type": "stream",
          "name": "stderr",
          "text": [
            "/usr/local/lib/python3.7/dist-packages/seaborn/distributions.py:2619: FutureWarning: `distplot` is a deprecated function and will be removed in a future version. Please adapt your code to use either `displot` (a figure-level function with similar flexibility) or `histplot` (an axes-level function for histograms).\n",
            "  warnings.warn(msg, FutureWarning)\n"
          ]
        },
        {
          "output_type": "execute_result",
          "data": {
            "text/plain": [
              "<matplotlib.axes._subplots.AxesSubplot at 0x7f981ecd7750>"
            ]
          },
          "metadata": {},
          "execution_count": 40
        },
        {
          "output_type": "display_data",
          "data": {
            "text/plain": [
              "<Figure size 432x288 with 1 Axes>"
            ],
            "image/png": "[encoded data removed]"
          },
          "metadata": {
            "needs_background": "light"
          }
        }
      ],
      "source": [
        "import seaborn as sns\n",
        "%matplotlib inline\n",
        "sns.distplot(data1)"
      ]
    },
    {
      "cell_type": "code",
      "execution_count": null,
      "metadata": {
        "id": "mzXgfKZQ7Haf",
        "colab": {
          "base_uri": "https://localhost:8080/"
        },
        "outputId": "7b9f363a-9314-486a-cd4c-1ff203a4a354"
      },
      "outputs": [
        {
          "output_type": "execute_result",
          "data": {
            "text/plain": [
              "array([ 1000,  2000,  6000,  4999,  2399, 50000])"
            ]
          },
          "metadata": {},
          "execution_count": 41
        }
      ],
      "source": [
        "newData = data1[(data1>lowerbound) & (data1<higherbound)]\n",
        "newData"
      ]
    },
    {
      "cell_type": "code",
      "execution_count": null,
      "metadata": {
        "id": "cQzhJEY67Haf",
        "colab": {
          "base_uri": "https://localhost:8080/",
          "height": 339
        },
        "outputId": "1e25de20-55a4-4a5e-ac84-fe93bc2e8e85"
      },
      "outputs": [
        {
          "output_type": "stream",
          "name": "stderr",
          "text": [
            "/usr/local/lib/python3.7/dist-packages/seaborn/distributions.py:2619: FutureWarning: `distplot` is a deprecated function and will be removed in a future version. Please adapt your code to use either `displot` (a figure-level function with similar flexibility) or `histplot` (an axes-level function for histograms).\n",
            "  warnings.warn(msg, FutureWarning)\n"
          ]
        },
        {
          "output_type": "execute_result",
          "data": {
            "text/plain": [
              "<matplotlib.axes._subplots.AxesSubplot at 0x7f981eb7e550>"
            ]
          },
          "metadata": {},
          "execution_count": 42
        },
        {
          "output_type": "display_data",
          "data": {
            "text/plain": [
              "<Figure size 432x288 with 1 Axes>"
            ],
            "image/png": "[encoded data removed]"
          },
          "metadata": {
            "needs_background": "light"
          }
        }
      ],
      "source": [
        "sns.distplot(newData)"
      ]
    },
    {
      "cell_type": "code",
      "source": [
        "sns.boxplot(newData)"
      ],
      "metadata": {
        "colab": {
          "base_uri": "https://localhost:8080/",
          "height": 339
        },
        "id": "vK5VfxLNbplE",
        "outputId": "36ce5269-a717-4e04-a25a-d9d90a1e3adb"
      },
      "execution_count": null,
      "outputs": [
        {
          "output_type": "stream",
          "name": "stderr",
          "text": [
            "/usr/local/lib/python3.7/dist-packages/seaborn/_decorators.py:43: FutureWarning: Pass the following variable as a keyword arg: x. From version 0.12, the only valid positional argument will be `data`, and passing other arguments without an explicit keyword will result in an error or misinterpretation.\n",
            "  FutureWarning\n"
          ]
        },
        {
          "output_type": "execute_result",
          "data": {
            "text/plain": [
              "<matplotlib.axes._subplots.AxesSubplot at 0x7f981eb1fa10>"
            ]
          },
          "metadata": {},
          "execution_count": 43
        },
        {
          "output_type": "display_data",
          "data": {
            "text/plain": [
              "<Figure size 432x288 with 1 Axes>"
            ],
            "image/png": "[encoded data removed]"
          },
          "metadata": {
            "needs_background": "light"
          }
        }
      ]
    },
    {
      "cell_type": "code",
      "execution_count": null,
      "metadata": {
        "id": "jjwaxYer7Hag"
      },
      "outputs": [],
      "source": [
        "lr1,ur1 = outlierDetection(newData)"
      ]
    },
    {
      "cell_type": "code",
      "execution_count": null,
      "metadata": {
        "id": "XxZL5Ubu7Hag",
        "outputId": "d4d8d5c9-4742-478e-e7c7-0ec6b46a69b7",
        "colab": {
          "base_uri": "https://localhost:8080/"
        }
      },
      "outputs": [
        {
          "output_type": "execute_result",
          "data": {
            "text/plain": [
              "array([1000, 2000, 6000, 4999, 2399])"
            ]
          },
          "metadata": {},
          "execution_count": 45
        }
      ],
      "source": [
        "newData2 = newData[(newData>lr1) & (newData<ur1)]\n",
        "newData2"
      ]
    },
    {
      "cell_type": "code",
      "execution_count": null,
      "metadata": {
        "id": "BONmJwTZ7Hag",
        "colab": {
          "base_uri": "https://localhost:8080/",
          "height": 342
        },
        "outputId": "05696204-ca44-4969-b46d-9881b54e833b"
      },
      "outputs": [
        {
          "output_type": "stream",
          "name": "stderr",
          "text": [
            "/usr/local/lib/python3.7/dist-packages/seaborn/distributions.py:2619: FutureWarning: `distplot` is a deprecated function and will be removed in a future version. Please adapt your code to use either `displot` (a figure-level function with similar flexibility) or `histplot` (an axes-level function for histograms).\n",
            "  warnings.warn(msg, FutureWarning)\n"
          ]
        },
        {
          "output_type": "execute_result",
          "data": {
            "text/plain": [
              "<matplotlib.axes._subplots.AxesSubplot at 0x7f981eaf0050>"
            ]
          },
          "metadata": {},
          "execution_count": 46
        },
        {
          "output_type": "display_data",
          "data": {
            "text/plain": [
              "<Figure size 432x288 with 1 Axes>"
            ],
            "image/png": "[encoded data removed]"
          },
          "metadata": {
            "needs_background": "light"
          }
        }
      ],
      "source": [
        "sns.distplot(newData2)"
      ]
    },
    {
      "cell_type": "code",
      "execution_count": null,
      "metadata": {
        "id": "6NO184557Hag",
        "outputId": "9abf1bd5-9500-46fa-95f4-87089309ace4",
        "colab": {
          "base_uri": "https://localhost:8080/"
        }
      },
      "outputs": [
        {
          "output_type": "execute_result",
          "data": {
            "text/plain": [
              "3279.6"
            ]
          },
          "metadata": {},
          "execution_count": 47
        }
      ],
      "source": [
        "np.mean(newData2)"
      ]
    },
    {
      "cell_type": "code",
      "execution_count": null,
      "metadata": {
        "id": "xGt2Iz8D7Hah",
        "outputId": "f026c300-6d71-453d-ef9d-23704f557ec4",
        "colab": {
          "base_uri": "https://localhost:8080/"
        }
      },
      "outputs": [
        {
          "output_type": "execute_result",
          "data": {
            "text/plain": [
              "2399.0"
            ]
          },
          "metadata": {},
          "execution_count": 48
        }
      ],
      "source": [
        "np.median(newData2)"
      ]
    },
    {
      "cell_type": "code",
      "execution_count": null,
      "metadata": {
        "id": "Bq5NTmLI7Hah",
        "outputId": "02613f5e-be41-490c-d1db-fbf8514474c9",
        "colab": {
          "base_uri": "https://localhost:8080/"
        }
      },
      "outputs": [
        {
          "output_type": "execute_result",
          "data": {
            "text/plain": [
              "array([[   1000],\n",
              "       [   2000],\n",
              "       [   6000],\n",
              "       [   4999],\n",
              "       [   2399],\n",
              "       [  50000],\n",
              "       [2000000]])"
            ]
          },
          "metadata": {},
          "execution_count": 49
        }
      ],
      "source": [
        "data1"
      ]
    },
    {
      "cell_type": "code",
      "execution_count": null,
      "metadata": {
        "id": "GOWjj0sm7Hah",
        "outputId": "7fab0b0b-79db-4498-fa2e-8204fb664506",
        "colab": {
          "base_uri": "https://localhost:8080/",
          "height": 339
        }
      },
      "outputs": [
        {
          "output_type": "stream",
          "name": "stderr",
          "text": [
            "/usr/local/lib/python3.7/dist-packages/seaborn/distributions.py:2619: FutureWarning: `distplot` is a deprecated function and will be removed in a future version. Please adapt your code to use either `displot` (a figure-level function with similar flexibility) or `histplot` (an axes-level function for histograms).\n",
            "  warnings.warn(msg, FutureWarning)\n"
          ]
        },
        {
          "output_type": "execute_result",
          "data": {
            "text/plain": [
              "<matplotlib.axes._subplots.AxesSubplot at 0x7f981ea0cd10>"
            ]
          },
          "metadata": {},
          "execution_count": 50
        },
        {
          "output_type": "display_data",
          "data": {
            "text/plain": [
              "<Figure size 432x288 with 1 Axes>"
            ],
            "image/png": "[encoded data removed]"
          },
          "metadata": {
            "needs_background": "light"
          }
        }
      ],
      "source": [
        "sns.distplot(np.log(np.log(np.log(np.log(data1)))))"
      ]
    },
    {
      "cell_type": "code",
      "execution_count": null,
      "metadata": {
        "id": "zc-AO8_F7Hah",
        "colab": {
          "base_uri": "https://localhost:8080/",
          "height": 206
        },
        "outputId": "66bb49e0-ee13-44d0-e5cb-6bae4c8b2f01"
      },
      "outputs": [
        {
          "output_type": "execute_result",
          "data": {
            "text/plain": [
              "  Car_Name  Year  Selling_Price  Present_Price  Kms_Driven Fuel_Type  \\\n",
              "0     ritz  2014           3.35           5.59       27000    Petrol   \n",
              "1      sx4  2013           4.75           9.54       43000    Diesel   \n",
              "2     ciaz  2017           7.25           9.85        6900    Petrol   \n",
              "3  wagon r  2011           2.85           4.15        5200    Petrol   \n",
              "4    swift  2014           4.60           6.87       42450    Diesel   \n",
              "\n",
              "  Seller_Type Transmission  Owner  \n",
              "0      Dealer       Manual      0  \n",
              "1      Dealer       Manual      0  \n",
              "2      Dealer       Manual      0  \n",
              "3      Dealer       Manual      0  \n",
              "4      Dealer       Manual      0  "
            ],
            "text/html": [
              "\n",
              "  <div id=\"df-9fc5e47e-a644-44e4-ae75-94c443bdb5d8\">\n",
              "    <div class=\"colab-df-container\">\n",
              "      <div>\n",
              "<style scoped>\n",
              "    .dataframe tbody tr th:only-of-type {\n",
              "        vertical-align: middle;\n",
              "    }\n",
              "\n",
              "    .dataframe tbody tr th {\n",
              "        vertical-align: top;\n",
              "    }\n",
              "\n",
              "    .dataframe thead th {\n",
              "        text-align: right;\n",
              "    }\n",
              "</style>\n",
              "<table border=\"1\" class=\"dataframe\">\n",
              "  <thead>\n",
              "    <tr style=\"text-align: right;\">\n",
              "      <th></th>\n",
              "      <th>Car_Name</th>\n",
              "      <th>Year</th>\n",
              "      <th>Selling_Price</th>\n",
              "      <th>Present_Price</th>\n",
              "      <th>Kms_Driven</th>\n",
              "      <th>Fuel_Type</th>\n",
              "      <th>Seller_Type</th>\n",
              "      <th>Transmission</th>\n",
              "      <th>Owner</th>\n",
              "    </tr>\n",
              "  </thead>\n",
              "  <tbody>\n",
              "    <tr>\n",
              "      <th>0</th>\n",
              "      <td>ritz</td>\n",
              "      <td>2014</td>\n",
              "      <td>3.35</td>\n",
              "      <td>5.59</td>\n",
              "      <td>27000</td>\n",
              "      <td>Petrol</td>\n",
              "      <td>Dealer</td>\n",
              "      <td>Manual</td>\n",
              "      <td>0</td>\n",
              "    </tr>\n",
              "    <tr>\n",
              "      <th>1</th>\n",
              "      <td>sx4</td>\n",
              "      <td>2013</td>\n",
              "      <td>4.75</td>\n",
              "      <td>9.54</td>\n",
              "      <td>43000</td>\n",
              "      <td>Diesel</td>\n",
              "      <td>Dealer</td>\n",
              "      <td>Manual</td>\n",
              "      <td>0</td>\n",
              "    </tr>\n",
              "    <tr>\n",
              "      <th>2</th>\n",
              "      <td>ciaz</td>\n",
              "      <td>2017</td>\n",
              "      <td>7.25</td>\n",
              "      <td>9.85</td>\n",
              "      <td>6900</td>\n",
              "      <td>Petrol</td>\n",
              "      <td>Dealer</td>\n",
              "      <td>Manual</td>\n",
              "      <td>0</td>\n",
              "    </tr>\n",
              "    <tr>\n",
              "      <th>3</th>\n",
              "      <td>wagon r</td>\n",
              "      <td>2011</td>\n",
              "      <td>2.85</td>\n",
              "      <td>4.15</td>\n",
              "      <td>5200</td>\n",
              "      <td>Petrol</td>\n",
              "      <td>Dealer</td>\n",
              "      <td>Manual</td>\n",
              "      <td>0</td>\n",
              "    </tr>\n",
              "    <tr>\n",
              "      <th>4</th>\n",
              "      <td>swift</td>\n",
              "      <td>2014</td>\n",
              "      <td>4.60</td>\n",
              "      <td>6.87</td>\n",
              "      <td>42450</td>\n",
              "      <td>Diesel</td>\n",
              "      <td>Dealer</td>\n",
              "      <td>Manual</td>\n",
              "      <td>0</td>\n",
              "    </tr>\n",
              "  </tbody>\n",
              "</table>\n",
              "</div>\n",
              "      <button class=\"colab-df-convert\" onclick=\"convertToInteractive('df-9fc5e47e-a644-44e4-ae75-94c443bdb5d8')\"\n",
              "              title=\"Convert this dataframe to an interactive table.\"\n",
              "              style=\"display:none;\">\n",
              "        \n",
              "  <svg xmlns=\"http://www.w3.org/2000/svg\" height=\"24px\"viewBox=\"0 0 24 24\"\n",
              "       width=\"24px\">\n",
              "    <path d=\"M0 0h24v24H0V0z\" fill=\"none\"/>\n",
              "    <path d=\"M18.56 5.44l.94 2.06.94-2.06 2.06-.94-2.06-.94-.94-2.06-.94 2.06-2.06.94zm-11 1L8.5 8.5l.94-2.06 2.06-.94-2.06-.94L8.5 2.5l-.94 2.06-2.06.94zm10 10l.94 2.06.94-2.06 2.06-.94-2.06-.94-.94-2.06-.94 2.06-2.06.94z\"/><path d=\"M17.41 7.96l-1.37-1.37c-.4-.4-.92-.59-1.43-.59-.52 0-1.04.2-1.43.59L10.3 9.45l-7.72 7.72c-.78.78-.78 2.05 0 2.83L4 21.41c.39.39.9.59 1.41.59.51 0 1.02-.2 1.41-.59l7.78-7.78 2.81-2.81c.8-.78.8-2.07 0-2.86zM5.41 20L4 18.59l7.72-7.72 1.47 1.35L5.41 20z\"/>\n",
              "  </svg>\n",
              "      </button>\n",
              "      \n",
              "  <style>\n",
              "    .colab-df-container {\n",
              "      display:flex;\n",
              "      flex-wrap:wrap;\n",
              "      gap: 12px;\n",
              "    }\n",
              "\n",
              "    .colab-df-convert {\n",
              "      background-color: #E8F0FE;\n",
              "      border: none;\n",
              "      border-radius: 50%;\n",
              "      cursor: pointer;\n",
              "      display: none;\n",
              "      fill: #1967D2;\n",
              "      height: 32px;\n",
              "      padding: 0 0 0 0;\n",
              "      width: 32px;\n",
              "    }\n",
              "\n",
              "    .colab-df-convert:hover {\n",
              "      background-color: #E2EBFA;\n",
              "      box-shadow: 0px 1px 2px rgba(60, 64, 67, 0.3), 0px 1px 3px 1px rgba(60, 64, 67, 0.15);\n",
              "      fill: #174EA6;\n",
              "    }\n",
              "\n",
              "    [theme=dark] .colab-df-convert {\n",
              "      background-color: #3B4455;\n",
              "      fill: #D2E3FC;\n",
              "    }\n",
              "\n",
              "    [theme=dark] .colab-df-convert:hover {\n",
              "      background-color: #434B5C;\n",
              "      box-shadow: 0px 1px 3px 1px rgba(0, 0, 0, 0.15);\n",
              "      filter: drop-shadow(0px 1px 2px rgba(0, 0, 0, 0.3));\n",
              "      fill: #FFFFFF;\n",
              "    }\n",
              "  </style>\n",
              "\n",
              "      <script>\n",
              "        const buttonEl =\n",
              "          document.querySelector('#df-9fc5e47e-a644-44e4-ae75-94c443bdb5d8 button.colab-df-convert');\n",
              "        buttonEl.style.display =\n",
              "          google.colab.kernel.accessAllowed ? 'block' : 'none';\n",
              "\n",
              "        async function convertToInteractive(key) {\n",
              "          const element = document.querySelector('#df-9fc5e47e-a644-44e4-ae75-94c443bdb5d8');\n",
              "          const dataTable =\n",
              "            await google.colab.kernel.invokeFunction('convertToInteractive',\n",
              "                                                     [key], {});\n",
              "          if (!dataTable) return;\n",
              "\n",
              "          const docLinkHtml = 'Like what you see? Visit the ' +\n",
              "            '<a target=\"_blank\" href=https://colab.research.google.com/notebooks/data_table.ipynb>data table notebook</a>'\n",
              "            + ' to learn more about interactive tables.';\n",
              "          element.innerHTML = '';\n",
              "          dataTable['output_type'] = 'display_data';\n",
              "          await google.colab.output.renderOutput(dataTable, element);\n",
              "          const docLink = document.createElement('div');\n",
              "          docLink.innerHTML = docLinkHtml;\n",
              "          element.appendChild(docLink);\n",
              "        }\n",
              "      </script>\n",
              "    </div>\n",
              "  </div>\n",
              "  "
            ]
          },
          "metadata": {},
          "execution_count": 51
        }
      ],
      "source": [
        "import pandas as pd\n",
        "df = pd.read_csv(\"/content/car data.csv\")\n",
        "df.head()"
      ]
    },
    {
      "cell_type": "code",
      "source": [
        "df['Present_Price'].min(),df['Present_Price'].max()"
      ],
      "metadata": {
        "colab": {
          "base_uri": "https://localhost:8080/"
        },
        "id": "r3ugApTchPIz",
        "outputId": "67b47f40-efd5-4869-85bd-a10a3e675c78"
      },
      "execution_count": null,
      "outputs": [
        {
          "output_type": "execute_result",
          "data": {
            "text/plain": [
              "(0.32, 92.6)"
            ]
          },
          "metadata": {},
          "execution_count": 52
        }
      ]
    },
    {
      "cell_type": "code",
      "source": [
        "df['Present_Price'].isnull()"
      ],
      "metadata": {
        "colab": {
          "base_uri": "https://localhost:8080/"
        },
        "id": "SaYuEzBxS-XP",
        "outputId": "5b2c5b4c-9559-4b9c-b0c1-71f9e5d44a80"
      },
      "execution_count": null,
      "outputs": [
        {
          "output_type": "execute_result",
          "data": {
            "text/plain": [
              "0      False\n",
              "1      False\n",
              "2      False\n",
              "3      False\n",
              "4      False\n",
              "       ...  \n",
              "296    False\n",
              "297    False\n",
              "298    False\n",
              "299    False\n",
              "300    False\n",
              "Name: Present_Price, Length: 301, dtype: bool"
            ]
          },
          "metadata": {},
          "execution_count": 53
        }
      ]
    },
    {
      "cell_type": "code",
      "source": [
        "# Why we use 25-75% in IQR?\n",
        "#Ans: The 25th percentile is the value at which 25% of the data lie below that value \n",
        "# and 75% of the data lie above that value in Gaussain Curve or Bell Curve."
      ],
      "metadata": {
        "id": "eyS5MYMaW9oD"
      },
      "execution_count": null,
      "outputs": []
    },
    {
      "cell_type": "code",
      "source": [
        "def outlierDetectionForDataset(data):\n",
        "  q1,q3 = np.percentile(data,[25,75])\n",
        "  IQR = np.subtract(q3,q1)\n",
        "  lower_fense = q1 - (1.5*IQR)\n",
        "  higher_fense = q3 + (1.5*IQR)\n",
        "  return lower_fense,higher_fense\n",
        "lower_bound,higher_bound = outlierDetectionForDataset(result)"
      ],
      "metadata": {
        "id": "Y-snndEWgWtb"
      },
      "execution_count": null,
      "outputs": []
    },
    {
      "cell_type": "code",
      "source": [
        "print(lower_bound,higher_bound)"
      ],
      "metadata": {
        "colab": {
          "base_uri": "https://localhost:8080/"
        },
        "id": "Haz0-Ih6htiz",
        "outputId": "c65e086f-2da8-43cc-f988-c9a0a6d79e1d"
      },
      "execution_count": null,
      "outputs": [
        {
          "output_type": "stream",
          "name": "stdout",
          "text": [
            "-11.850000000000001 22.950000000000003\n"
          ]
        }
      ]
    },
    {
      "cell_type": "code",
      "source": [
        "result = df['Present_Price']"
      ],
      "metadata": {
        "id": "ZX9J6Zafmmmn"
      },
      "execution_count": null,
      "outputs": []
    },
    {
      "cell_type": "code",
      "source": [
        "new_data = result[(result>lower_bound) & (result<higher_bound)]\n",
        "final_arr = np.array(new_data)\n",
        "final_arr"
      ],
      "metadata": {
        "colab": {
          "base_uri": "https://localhost:8080/"
        },
        "id": "z2lnAU7Ajl4y",
        "outputId": "293454e2-29c9-4e73-a901-1ca07b97fe72"
      },
      "execution_count": null,
      "outputs": [
        {
          "output_type": "execute_result",
          "data": {
            "text/plain": [
              "array([ 5.59 ,  9.54 ,  9.85 ,  4.15 ,  6.87 ,  9.83 ,  8.12 ,  8.61 ,\n",
              "        8.89 ,  8.92 ,  3.6  , 10.38 ,  9.94 ,  7.71 ,  7.21 , 10.79 ,\n",
              "       10.79 , 10.79 ,  5.09 ,  7.98 ,  3.95 ,  5.71 ,  8.01 ,  3.46 ,\n",
              "        4.41 ,  4.99 ,  5.87 ,  6.49 ,  3.95 , 10.38 ,  5.98 ,  4.89 ,\n",
              "        7.49 ,  9.95 ,  8.06 ,  7.74 ,  7.2  ,  2.28 ,  3.76 ,  7.98 ,\n",
              "        7.87 ,  3.98 ,  7.15 ,  8.06 ,  2.69 , 12.04 ,  4.89 ,  4.15 ,\n",
              "        7.71 ,  9.29 , 19.77 , 10.21 , 15.04 ,  7.27 , 18.54 ,  6.8  ,\n",
              "       18.61 ,  7.7  ,  6.95 , 20.45 , 13.74 , 20.91 ,  6.76 , 12.48 ,\n",
              "       18.61 ,  5.71 ,  8.93 ,  6.8  , 14.68 , 12.35 , 22.83 , 14.89 ,\n",
              "        7.85 , 13.46 , 13.46 , 13.74 ,  6.05 ,  6.76 , 18.61 , 16.09 ,\n",
              "       13.7  , 22.78 , 18.61 , 18.64 , 18.61 , 20.45 ,  1.9  ,  1.82 ,\n",
              "        1.78 ,  1.6  ,  1.47 ,  2.37 ,  3.45 ,  1.5  ,  1.5  ,  1.47 ,\n",
              "        1.78 ,  1.5  ,  2.4  ,  1.4  ,  1.47 ,  1.47 ,  1.47 ,  1.9  ,\n",
              "        1.47 ,  1.9  ,  1.26 ,  1.5  ,  1.17 ,  1.47 ,  1.75 ,  1.75 ,\n",
              "        0.95 ,  0.8  ,  0.87 ,  0.84 ,  0.87 ,  0.82 ,  0.95 ,  0.95 ,\n",
              "        0.81 ,  0.74 ,  1.2  ,  0.787,  0.87 ,  0.95 ,  1.2  ,  0.8  ,\n",
              "        0.84 ,  0.84 ,  0.99 ,  0.81 ,  0.787,  0.84 ,  0.94 ,  0.94 ,\n",
              "        0.826,  0.55 ,  0.99 ,  0.99 ,  0.88 ,  0.51 ,  0.52 ,  0.84 ,\n",
              "        0.54 ,  0.51 ,  0.95 ,  0.826,  0.99 ,  0.95 ,  0.54 ,  0.54 ,\n",
              "        0.55 ,  0.81 ,  0.73 ,  0.54 ,  0.83 ,  0.55 ,  0.64 ,  0.51 ,\n",
              "        0.72 ,  0.787,  1.05 ,  0.57 ,  0.52 ,  1.05 ,  0.51 ,  0.48 ,\n",
              "        0.58 ,  0.47 ,  0.75 ,  0.58 ,  0.52 ,  0.51 ,  0.57 ,  0.57 ,\n",
              "        0.75 ,  0.57 ,  0.75 ,  0.65 ,  0.787,  0.32 ,  0.52 ,  0.51 ,\n",
              "        0.57 ,  0.58 ,  0.75 ,  6.79 ,  5.7  ,  4.6  ,  4.43 ,  5.7  ,\n",
              "        7.13 ,  5.7  ,  8.1  ,  5.7  ,  4.6  , 14.79 , 13.6  ,  6.79 ,\n",
              "        5.7  ,  9.4  ,  4.43 ,  4.43 ,  9.4  ,  9.4  ,  4.43 ,  6.79 ,\n",
              "        7.6  ,  9.4  ,  9.4  ,  4.6  ,  5.7  ,  4.43 ,  9.4  ,  6.79 ,\n",
              "        9.4  ,  9.4  , 14.79 ,  5.7  ,  5.7  ,  9.4  ,  4.43 , 13.6  ,\n",
              "        9.4  ,  4.43 ,  9.4  ,  7.13 ,  7.13 ,  7.6  ,  9.4  ,  9.4  ,\n",
              "        6.79 ,  9.4  ,  4.6  ,  7.6  , 13.6  ,  9.9  ,  6.82 ,  9.9  ,\n",
              "        9.9  ,  5.35 , 13.6  , 13.6  , 13.6  ,  7.   , 13.6  ,  5.97 ,\n",
              "        5.8  ,  7.7  ,  7.   ,  8.7  ,  7.   ,  9.4  ,  5.8  , 10.   ,\n",
              "       10.   , 10.   , 10.   ,  7.5  ,  6.8  , 13.6  , 13.6  , 13.6  ,\n",
              "        8.4  , 13.6  ,  5.9  ,  7.6  , 14.   , 11.8  ,  5.9  ,  8.5  ,\n",
              "        7.9  ,  7.5  , 13.6  , 13.6  ,  6.4  ,  6.1  ,  8.4  ,  9.9  ,\n",
              "        6.8  , 13.09 , 11.6  ,  5.9  , 11.   , 12.5  ,  5.9  ])"
            ]
          },
          "metadata": {},
          "execution_count": 58
        }
      ]
    },
    {
      "cell_type": "code",
      "source": [
        "sns.distplot(final_arr)"
      ],
      "metadata": {
        "colab": {
          "base_uri": "https://localhost:8080/",
          "height": 339
        },
        "id": "1DuCfJagWZsS",
        "outputId": "52846109-61e2-42fb-8c1f-19235400f2bc"
      },
      "execution_count": null,
      "outputs": [
        {
          "output_type": "stream",
          "name": "stderr",
          "text": [
            "/usr/local/lib/python3.7/dist-packages/seaborn/distributions.py:2619: FutureWarning: `distplot` is a deprecated function and will be removed in a future version. Please adapt your code to use either `displot` (a figure-level function with similar flexibility) or `histplot` (an axes-level function for histograms).\n",
            "  warnings.warn(msg, FutureWarning)\n"
          ]
        },
        {
          "output_type": "execute_result",
          "data": {
            "text/plain": [
              "<matplotlib.axes._subplots.AxesSubplot at 0x7f981ea787d0>"
            ]
          },
          "metadata": {},
          "execution_count": 59
        },
        {
          "output_type": "display_data",
          "data": {
            "text/plain": [
              "<Figure size 432x288 with 1 Axes>"
            ],
            "image/png": "[encoded data removed]"
          },
          "metadata": {
            "needs_background": "light"
          }
        }
      ]
    }
  ],
  "metadata": {
    "kernelspec": {
      "display_name": "Python 3",
      "language": "python",
      "name": "python3"
    },
    "language_info": {
      "codemirror_mode": {
        "name": "ipython",
        "version": 3
      },
      "file_extension": ".py",
      "mimetype": "text/x-python",
      "name": "python",
      "nbconvert_exporter": "python",
      "pygments_lexer": "ipython3",
      "version": "3.7.6"
    },
    "colab": {
      "provenance": [],
      "collapsed_sections": [],
      "include_colab_link": true
    }
  },
  "nbformat": 4,
  "nbformat_minor": 0
}